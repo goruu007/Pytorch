{
  "cells": [
    {
      "cell_type": "markdown",
      "metadata": {
        "id": "view-in-github",
        "colab_type": "text"
      },
      "source": [
        "<a href=\"https://colab.research.google.com/github/goruu007/Pytorch/blob/main/Pytorch.ipynb\" target=\"_parent\"><img src=\"https://colab.research.google.com/assets/colab-badge.svg\" alt=\"Open In Colab\"/></a>"
      ]
    },
    {
      "cell_type": "code",
      "execution_count": 2,
      "metadata": {
        "id": "VxAkWxF0660S"
      },
      "outputs": [],
      "source": [
        "import torch"
      ]
    },
    {
      "cell_type": "code",
      "execution_count": 3,
      "metadata": {
        "colab": {
          "base_uri": "https://localhost:8080/",
          "height": 36
        },
        "id": "pbF_hXBd7BTZ",
        "outputId": "269f55d1-4ffe-4502-dd1a-3704fc106754"
      },
      "outputs": [
        {
          "output_type": "execute_result",
          "data": {
            "text/plain": [
              "'2.5.1+cu124'"
            ],
            "application/vnd.google.colaboratory.intrinsic+json": {
              "type": "string"
            }
          },
          "metadata": {},
          "execution_count": 3
        }
      ],
      "source": [
        "torch.__version__"
      ]
    },
    {
      "cell_type": "markdown",
      "metadata": {
        "id": "Nb41bbYm7Iv3"
      },
      "source": [
        "## Tensors"
      ]
    },
    {
      "cell_type": "markdown",
      "metadata": {
        "id": "48N5_r5e7M5g"
      },
      "source": [
        "## Creating Tensors"
      ]
    },
    {
      "cell_type": "code",
      "execution_count": 4,
      "metadata": {
        "colab": {
          "base_uri": "https://localhost:8080/"
        },
        "id": "YkXduOVo7LvB",
        "outputId": "a9e37a77-d094-45ab-d967-733d9a655c60"
      },
      "outputs": [
        {
          "output_type": "execute_result",
          "data": {
            "text/plain": [
              "tensor(1)"
            ]
          },
          "metadata": {},
          "execution_count": 4
        }
      ],
      "source": [
        "# scalar - tensor with zero dimension\n",
        "tensor0 = torch.tensor(1)\n",
        "tensor0"
      ]
    },
    {
      "cell_type": "code",
      "execution_count": 8,
      "metadata": {
        "colab": {
          "base_uri": "https://localhost:8080/"
        },
        "id": "r2oc3jow_LUA",
        "outputId": "0f1fb4c3-4c29-4a6b-a711-3d4b1c6b233b"
      },
      "outputs": [
        {
          "output_type": "execute_result",
          "data": {
            "text/plain": [
              "0"
            ]
          },
          "metadata": {},
          "execution_count": 8
        }
      ],
      "source": [
        "tensor0.ndim"
      ]
    },
    {
      "cell_type": "code",
      "execution_count": 9,
      "metadata": {
        "id": "0ILy0PjO8cd2"
      },
      "outputs": [],
      "source": [
        "# vector - tensor with one dimension\n",
        "tensor1 = torch.tensor([6,8,0,1,2])"
      ]
    },
    {
      "cell_type": "code",
      "execution_count": 10,
      "metadata": {
        "id": "ly0e5WnY9KTq"
      },
      "outputs": [],
      "source": [
        "# matrix - tensor with two dimensions\n",
        "tensor2 = torch.tensor([[0, 1, 7],[4, 2, 4]])"
      ]
    },
    {
      "cell_type": "code",
      "execution_count": 11,
      "metadata": {
        "colab": {
          "base_uri": "https://localhost:8080/"
        },
        "id": "fXl02Ra793nJ",
        "outputId": "da20f653-9474-4fce-debc-b379c336b51e"
      },
      "outputs": [
        {
          "output_type": "stream",
          "name": "stdout",
          "text": [
            "vector:\n",
            "tensor([6, 8, 0, 1, 2])\tNo. of dimensions: 1\tShape: torch.Size([5])\n",
            "\n",
            "matirx:\n",
            "tensor([[0, 1, 7],\n",
            "        [4, 2, 4]])\tNo. of dimensions: 2\tShape: torch.Size([2, 3])\n",
            "\n"
          ]
        }
      ],
      "source": [
        "# Dimension and shape of a tensor\n",
        "print(f'vector:\\n{tensor1}\\tNo. of dimensions: {tensor1.ndim}\\tShape: {tensor1.shape}\\n')\n",
        "print(f'matirx:\\n{tensor2}\\tNo. of dimensions: {tensor2.dim()}\\tShape: {tensor2.size()}\\n')"
      ]
    },
    {
      "cell_type": "code",
      "execution_count": 12,
      "metadata": {
        "colab": {
          "base_uri": "https://localhost:8080/"
        },
        "id": "a7_CMUmBBAO9",
        "outputId": "49c63dcf-0e40-4f74-cf40-7924bdbd3234"
      },
      "outputs": [
        {
          "output_type": "execute_result",
          "data": {
            "text/plain": [
              "tensor([[2.8026e-45, 0.0000e+00, 2.8026e-45, 7.0065e-45],\n",
              "        [1.5835e-42, 0.0000e+00, 1.6210e-34, 0.0000e+00],\n",
              "        [5.6052e-45, 4.3349e-41, 1.6209e-34, 0.0000e+00]])"
            ]
          },
          "metadata": {},
          "execution_count": 12
        }
      ],
      "source": [
        "# Alternate ways\n",
        "size = (3,4)\n",
        "\n",
        "tensor4 = torch.empty(size)\n",
        "tensor4"
      ]
    },
    {
      "cell_type": "code",
      "execution_count": 13,
      "metadata": {
        "colab": {
          "base_uri": "https://localhost:8080/"
        },
        "id": "snZPF0d9OZ6z",
        "outputId": "ae3d3fd4-1b80-4783-e0e4-306df0dc2f94"
      },
      "outputs": [
        {
          "output_type": "execute_result",
          "data": {
            "text/plain": [
              "tensor([[0.6694, 0.3294, 0.5456, 0.5648],\n",
              "        [0.2107, 0.9790, 0.4158, 0.3936],\n",
              "        [0.7684, 0.9976, 0.9574, 0.5202]])"
            ]
          },
          "metadata": {},
          "execution_count": 13
        }
      ],
      "source": [
        "tensor5 = torch.rand(size)\n",
        "tensor5"
      ]
    },
    {
      "cell_type": "code",
      "execution_count": 14,
      "metadata": {
        "colab": {
          "base_uri": "https://localhost:8080/"
        },
        "id": "jjOUp7UXObmF",
        "outputId": "f6238910-ccb8-4f79-aecf-6af4c43bdb6d"
      },
      "outputs": [
        {
          "output_type": "execute_result",
          "data": {
            "text/plain": [
              "tensor([[0., 0., 0., 0.],\n",
              "        [0., 0., 0., 0.],\n",
              "        [0., 0., 0., 0.]])"
            ]
          },
          "metadata": {},
          "execution_count": 14
        }
      ],
      "source": [
        "tensor6 = torch.zeros(size)\n",
        "tensor6"
      ]
    },
    {
      "cell_type": "code",
      "execution_count": 15,
      "metadata": {
        "colab": {
          "base_uri": "https://localhost:8080/"
        },
        "id": "5IO1tRGSOdPx",
        "outputId": "b30e479b-3398-4e1b-f08a-281eea935522"
      },
      "outputs": [
        {
          "output_type": "execute_result",
          "data": {
            "text/plain": [
              "tensor([[1., 1., 1., 1.],\n",
              "        [1., 1., 1., 1.],\n",
              "        [1., 1., 1., 1.]])"
            ]
          },
          "metadata": {},
          "execution_count": 15
        }
      ],
      "source": [
        "tensor7 = torch.ones(size)\n",
        "tensor7"
      ]
    },
    {
      "cell_type": "code",
      "execution_count": 16,
      "metadata": {
        "colab": {
          "base_uri": "https://localhost:8080/"
        },
        "id": "rtpZ4M45BeUZ",
        "outputId": "67e54f6b-0532-4469-95ce-e4cf53645002"
      },
      "outputs": [
        {
          "output_type": "stream",
          "name": "stdout",
          "text": [
            "tensor([[0.1718, 0.6966],\n",
            "        [0.3291, 0.6790],\n",
            "        [0.6691, 0.9492],\n",
            "        [0.3049, 0.8838],\n",
            "        [0.7787, 0.9982],\n",
            "        [0.9997, 0.7044]])\n"
          ]
        },
        {
          "output_type": "execute_result",
          "data": {
            "text/plain": [
              "torch.float32"
            ]
          },
          "metadata": {},
          "execution_count": 16
        }
      ],
      "source": [
        "# Check the datatype of a tensor\n",
        "tensor4 = torch.rand(6,2)\n",
        "print(tensor4)\n",
        "tensor4.dtype"
      ]
    },
    {
      "cell_type": "code",
      "execution_count": 17,
      "metadata": {
        "colab": {
          "base_uri": "https://localhost:8080/"
        },
        "id": "kdsZnnZtDqj5",
        "outputId": "ff8bdb71-96b6-40e7-b075-780cc77f9ae7"
      },
      "outputs": [
        {
          "output_type": "stream",
          "name": "stdout",
          "text": [
            "tensor([[0.6050, 0.8105]], dtype=torch.float16)\n"
          ]
        }
      ],
      "source": [
        "# Create a tensor with a specific datatype\n",
        "tensor5 = torch.rand(1, 2, dtype=torch.float16)\n",
        "print(tensor5)"
      ]
    },
    {
      "cell_type": "code",
      "execution_count": null,
      "metadata": {
        "colab": {
          "base_uri": "https://localhost:8080/"
        },
        "id": "N1e_h_BMFrWx",
        "outputId": "08eddacc-6b4d-46ae-ed73-134b46030838"
      },
      "outputs": [
        {
          "data": {
            "text/plain": [
              "tensor([[0.4736, 0.4544],\n",
              "        [0.5488, 0.4541],\n",
              "        [0.2899, 0.0378],\n",
              "        [0.1983, 0.3937],\n",
              "        [0.9441, 0.2028],\n",
              "        [0.7925, 0.5108]], dtype=torch.float64)"
            ]
          },
          "execution_count": 14,
          "metadata": {},
          "output_type": "execute_result"
        }
      ],
      "source": [
        "# Changing the datatype of a tensor\n",
        "tensor4.type(torch.double)"
      ]
    },
    {
      "cell_type": "code",
      "execution_count": null,
      "metadata": {
        "colab": {
          "base_uri": "https://localhost:8080/"
        },
        "id": "Yg0VpoWHPKLz",
        "outputId": "24cc6112-3e6e-4d58-bd16-9f258236bd4f"
      },
      "outputs": [
        {
          "name": "stdout",
          "output_type": "stream",
          "text": [
            "[[9 3]\n",
            " [0 4]]\n",
            "tensor([[9, 3],\n",
            "        [0, 4]])\n",
            "tensor([[9, 3],\n",
            "        [0, 4]])\n"
          ]
        }
      ],
      "source": [
        "## Creating tensors from a numpy array\n",
        "import numpy as np\n",
        "\n",
        "example_array = np.array([[9,3],[0,4]])\n",
        "tensor8 = torch.from_numpy(example_array)\n",
        "\n",
        "tensor9 = torch.tensor(example_array)\n",
        "print(example_array)\n",
        "print(tensor8)\n",
        "print(tensor9)"
      ]
    },
    {
      "cell_type": "code",
      "execution_count": null,
      "metadata": {
        "colab": {
          "base_uri": "https://localhost:8080/"
        },
        "id": "EmMVVt3dPkYW",
        "outputId": "51eaf497-c84d-485e-a42f-8878ecb92284"
      },
      "outputs": [
        {
          "name": "stdout",
          "output_type": "stream",
          "text": [
            "[[27  9]\n",
            " [ 0 12]]\n",
            "tensor([[27,  9],\n",
            "        [ 0, 12]])\n",
            "tensor([[9, 3],\n",
            "        [0, 4]])\n"
          ]
        }
      ],
      "source": [
        "example_array *= 3\n",
        "print(example_array)\n",
        "print(tensor8)\n",
        "print(tensor9)"
      ]
    },
    {
      "cell_type": "code",
      "execution_count": null,
      "metadata": {
        "colab": {
          "base_uri": "https://localhost:8080/"
        },
        "id": "288BxfcMP2U_",
        "outputId": "74c09be8-4a8a-46e1-8b5d-a3781f647904"
      },
      "outputs": [
        {
          "data": {
            "text/plain": [
              "tensor([[1, 1],\n",
              "        [1, 1]])"
            ]
          },
          "execution_count": 17,
          "metadata": {},
          "output_type": "execute_result"
        }
      ],
      "source": [
        "## Creating a tensor from another tensor\n",
        "tensor10 = torch.ones_like(tensor8)\n",
        "tensor10"
      ]
    },
    {
      "cell_type": "code",
      "execution_count": null,
      "metadata": {
        "colab": {
          "base_uri": "https://localhost:8080/"
        },
        "id": "iH6Sa2jlUZ8Y",
        "outputId": "be30e675-a675-4d91-a4ea-eec74a1d3e93"
      },
      "outputs": [
        {
          "data": {
            "text/plain": [
              "device(type='cpu')"
            ]
          },
          "execution_count": 18,
          "metadata": {},
          "output_type": "execute_result"
        }
      ],
      "source": [
        "# Device configuration\n",
        "device = torch.device('cuda' if torch.cuda.is_available() else 'cpu')\n",
        "\n",
        "tensor11 = torch.ones(3,7).to(device) # \"cpu\",\"cuda\"\n",
        "\n",
        "tensor11 = torch.zeros(3,7, device=device)\n",
        "device"
      ]
    },
    {
      "cell_type": "markdown",
      "metadata": {
        "id": "r352kbJHcskd"
      },
      "source": [
        "## Accessing elements in a tensor"
      ]
    },
    {
      "cell_type": "code",
      "execution_count": null,
      "metadata": {
        "colab": {
          "base_uri": "https://localhost:8080/"
        },
        "id": "xEAspSKTdp37",
        "outputId": "71e1e167-49d7-4487-e6d5-700f9f422bef"
      },
      "outputs": [
        {
          "data": {
            "text/plain": [
              "tensor([[0, 1, 7],\n",
              "        [4, 2, 4]])"
            ]
          },
          "execution_count": 19,
          "metadata": {},
          "output_type": "execute_result"
        }
      ],
      "source": [
        "tensor2"
      ]
    },
    {
      "cell_type": "code",
      "execution_count": null,
      "metadata": {
        "colab": {
          "base_uri": "https://localhost:8080/"
        },
        "id": "nzuzLupwcTTU",
        "outputId": "596f2359-736c-406b-cee3-f72304374b18"
      },
      "outputs": [
        {
          "data": {
            "text/plain": [
              "2"
            ]
          },
          "execution_count": 20,
          "metadata": {},
          "output_type": "execute_result"
        }
      ],
      "source": [
        "tensor2.dim()"
      ]
    },
    {
      "cell_type": "code",
      "execution_count": null,
      "metadata": {
        "colab": {
          "base_uri": "https://localhost:8080/"
        },
        "id": "5DItsJnJcYxP",
        "outputId": "84593fd7-dedf-4800-fcaf-0340193d9864"
      },
      "outputs": [
        {
          "data": {
            "text/plain": [
              "torch.Size([2, 3])"
            ]
          },
          "execution_count": 21,
          "metadata": {},
          "output_type": "execute_result"
        }
      ],
      "source": [
        "tensor2.size()"
      ]
    },
    {
      "cell_type": "code",
      "execution_count": null,
      "metadata": {
        "colab": {
          "base_uri": "https://localhost:8080/"
        },
        "id": "AQOlC86qdxPw",
        "outputId": "77e066a8-8a52-446b-832e-07427b392eb2"
      },
      "outputs": [
        {
          "data": {
            "text/plain": [
              "tensor([0, 1, 7])"
            ]
          },
          "execution_count": 22,
          "metadata": {},
          "output_type": "execute_result"
        }
      ],
      "source": [
        "tensor2[0]"
      ]
    },
    {
      "cell_type": "code",
      "execution_count": null,
      "metadata": {
        "colab": {
          "base_uri": "https://localhost:8080/"
        },
        "id": "42nNMNoRd_fw",
        "outputId": "b8f79b41-27dd-4091-af9a-44b6d19303e3"
      },
      "outputs": [
        {
          "data": {
            "text/plain": [
              "tensor(4)"
            ]
          },
          "execution_count": 23,
          "metadata": {},
          "output_type": "execute_result"
        }
      ],
      "source": [
        "tensor2[1,0]"
      ]
    },
    {
      "cell_type": "code",
      "execution_count": null,
      "metadata": {
        "colab": {
          "base_uri": "https://localhost:8080/"
        },
        "id": "mdXfEoFsQ8op",
        "outputId": "9886d310-cc29-4125-adbf-a2597adf4aca"
      },
      "outputs": [
        {
          "data": {
            "text/plain": [
              "tensor([7, 4])"
            ]
          },
          "execution_count": 24,
          "metadata": {},
          "output_type": "execute_result"
        }
      ],
      "source": [
        "# Slicing\n",
        "tensor2[:, 2] # this will give us all the rows and only column 2"
      ]
    },
    {
      "cell_type": "code",
      "execution_count": null,
      "metadata": {
        "colab": {
          "base_uri": "https://localhost:8080/"
        },
        "id": "tR15WnphRV2r",
        "outputId": "ca0ff07b-cdfe-40c2-b4d6-329de7292c51"
      },
      "outputs": [
        {
          "data": {
            "text/plain": [
              "tensor([0, 1, 7])"
            ]
          },
          "execution_count": 25,
          "metadata": {},
          "output_type": "execute_result"
        }
      ],
      "source": [
        "tensor2[0, :] # this will give us only row 0 along with all columns"
      ]
    },
    {
      "cell_type": "markdown",
      "metadata": {
        "id": "izXBZNMqdq3L"
      },
      "source": [
        "## Basic Tensor Operations"
      ]
    },
    {
      "cell_type": "code",
      "execution_count": null,
      "metadata": {
        "colab": {
          "base_uri": "https://localhost:8080/"
        },
        "id": "r4dPeipgLeCZ",
        "outputId": "102f43b6-0677-4135-aba9-8709b248a7fc"
      },
      "outputs": [
        {
          "name": "stdout",
          "output_type": "stream",
          "text": [
            "tensor([[1., 1., 1.],\n",
            "        [1., 1., 1.]])\n",
            "tensor([[0.1748, 0.5201, 0.1649],\n",
            "        [0.2112, 0.5642, 0.9925]])\n"
          ]
        }
      ],
      "source": [
        "tensor12 = torch.ones(2, 3)\n",
        "tensor13 = torch.rand(2, 3)\n",
        "\n",
        "print(tensor12)\n",
        "print(tensor13)"
      ]
    },
    {
      "cell_type": "code",
      "execution_count": null,
      "metadata": {
        "colab": {
          "base_uri": "https://localhost:8080/"
        },
        "id": "FTxgiFECWHhm",
        "outputId": "ac92f083-6d3c-45a2-81a1-4548c1355938"
      },
      "outputs": [
        {
          "name": "stdout",
          "output_type": "stream",
          "text": [
            "tensor([[1.1748, 1.5201, 1.1649],\n",
            "        [1.2112, 1.5642, 1.9925]])\n",
            "tensor([[0.8252, 0.4799, 0.8351],\n",
            "        [0.7888, 0.4358, 0.0075]])\n",
            "tensor([[0.1748, 0.5201, 0.1649],\n",
            "        [0.2112, 0.5642, 0.9925]])\n",
            "tensor([[1., 1., 1.],\n",
            "        [1., 1., 1.]])\n"
          ]
        }
      ],
      "source": [
        "# elementwise addition\n",
        "tensor14 = tensor12 + tensor13\n",
        "# torch.add(tensor12,tensor13)\n",
        "print(tensor14)\n",
        "\n",
        "# elementwise subtraction\n",
        "tensor15 = tensor12 - tensor13\n",
        "# torch.sub(tensor12, tensor13)\n",
        "print(tensor15)\n",
        "\n",
        "# elementwise multiplication\n",
        "tensor16 = tensor12 * tensor13\n",
        "# torch.mul(tensor12,tensor13)\n",
        "print(tensor16)\n",
        "\n",
        "# elementwise division\n",
        "tensor17 = tensor12 / tensor12\n",
        "# torch.div(tensor12,tensor12)\n",
        "print(tensor17)"
      ]
    },
    {
      "cell_type": "markdown",
      "metadata": {
        "id": "5442TYFVdxK0"
      },
      "source": [
        "## Manipulating a tensor"
      ]
    },
    {
      "cell_type": "code",
      "execution_count": null,
      "metadata": {
        "colab": {
          "base_uri": "https://localhost:8080/"
        },
        "id": "NKA3bb_ZWvyZ",
        "outputId": "abd3cefd-b65d-480c-f572-6d310f17e834"
      },
      "outputs": [
        {
          "data": {
            "text/plain": [
              "tensor([[2, 0, 1, 2, 2],\n",
              "        [0, 0, 2, 1, 1],\n",
              "        [2, 1, 1, 1, 2],\n",
              "        [2, 1, 1, 1, 0]])"
            ]
          },
          "execution_count": 28,
          "metadata": {},
          "output_type": "execute_result"
        }
      ],
      "source": [
        "x = torch.randint(0,3,(4,5))\n",
        "x"
      ]
    },
    {
      "cell_type": "code",
      "execution_count": null,
      "metadata": {
        "id": "uq-_CbV58yeB"
      },
      "outputs": [],
      "source": [
        "y = x.view(20)\n",
        "z = x.view(-1, 10)"
      ]
    },
    {
      "cell_type": "code",
      "execution_count": null,
      "metadata": {
        "colab": {
          "base_uri": "https://localhost:8080/"
        },
        "id": "lR7DoNwK8vXh",
        "outputId": "239db0d8-360d-4f93-cbb6-d7a65ab93940"
      },
      "outputs": [
        {
          "name": "stdout",
          "output_type": "stream",
          "text": [
            "torch.Size([4, 5]) torch.Size([20]) torch.Size([2, 10])\n"
          ]
        }
      ],
      "source": [
        "print(x.size(), y.size(), z.size())"
      ]
    },
    {
      "cell_type": "code",
      "execution_count": null,
      "metadata": {
        "colab": {
          "base_uri": "https://localhost:8080/"
        },
        "id": "cDN7HIskOs9c",
        "outputId": "0845dd75-e610-44da-cdec-24b79d6403db"
      },
      "outputs": [
        {
          "data": {
            "text/plain": [
              "tensor([[0, 1, 2],\n",
              "        [3, 4, 5],\n",
              "        [6, 7, 8]])"
            ]
          },
          "execution_count": 31,
          "metadata": {},
          "output_type": "execute_result"
        }
      ],
      "source": [
        "a = torch.arange(9)\n",
        "a = a.reshape(3,3)\n",
        "a"
      ]
    },
    {
      "cell_type": "code",
      "execution_count": null,
      "metadata": {
        "colab": {
          "base_uri": "https://localhost:8080/"
        },
        "id": "CDKvcs7mOSaw",
        "outputId": "7ce2323f-5719-4e9e-9521-08fa2fc5ad1f"
      },
      "outputs": [
        {
          "data": {
            "text/plain": [
              "tensor([[0, 5, 1],\n",
              "        [0, 0, 1],\n",
              "        [3, 2, 3]])"
            ]
          },
          "execution_count": 32,
          "metadata": {},
          "output_type": "execute_result"
        }
      ],
      "source": [
        "b = torch.randint(0,9,(3,3)) ## torch.randint(low=0, high, size)\n",
        "b"
      ]
    },
    {
      "cell_type": "code",
      "execution_count": null,
      "metadata": {
        "colab": {
          "base_uri": "https://localhost:8080/"
        },
        "id": "0TrzajuPPXz0",
        "outputId": "7154c78e-ebc5-4ff6-bcea-acacdb646c5a"
      },
      "outputs": [
        {
          "data": {
            "text/plain": [
              "tensor([[0, 1, 2, 0, 5, 1],\n",
              "        [3, 4, 5, 0, 0, 1],\n",
              "        [6, 7, 8, 3, 2, 3]])"
            ]
          },
          "execution_count": 33,
          "metadata": {},
          "output_type": "execute_result"
        }
      ],
      "source": [
        "c = torch.cat((a,b),dim=1)\n",
        "c"
      ]
    },
    {
      "cell_type": "code",
      "execution_count": null,
      "metadata": {
        "colab": {
          "base_uri": "https://localhost:8080/"
        },
        "id": "GreZ98T_VI3o",
        "outputId": "a86415d4-d9ec-4238-bbcb-6cd53ad5a9cb"
      },
      "outputs": [
        {
          "data": {
            "text/plain": [
              "tensor([[0, 1, 2],\n",
              "        [3, 4, 5],\n",
              "        [6, 7, 8],\n",
              "        [0, 5, 1],\n",
              "        [0, 0, 1],\n",
              "        [3, 2, 3]])"
            ]
          },
          "execution_count": 34,
          "metadata": {},
          "output_type": "execute_result"
        }
      ],
      "source": [
        "d = torch.cat((a,b),dim=0)\n",
        "d"
      ]
    },
    {
      "cell_type": "code",
      "execution_count": null,
      "metadata": {
        "colab": {
          "base_uri": "https://localhost:8080/"
        },
        "id": "vCTJOZJ5PvX0",
        "outputId": "72e8da3f-083f-4d03-ceeb-550974c7ec52"
      },
      "outputs": [
        {
          "data": {
            "text/plain": [
              "tensor([[0, 1, 2],\n",
              "        [3, 4, 5],\n",
              "        [6, 7, 8]])"
            ]
          },
          "execution_count": 35,
          "metadata": {},
          "output_type": "execute_result"
        }
      ],
      "source": [
        "a"
      ]
    },
    {
      "cell_type": "code",
      "execution_count": null,
      "metadata": {
        "colab": {
          "base_uri": "https://localhost:8080/"
        },
        "id": "9RX3QfStYKHR",
        "outputId": "5181e0a0-ee88-400b-dbbb-d1baf0980947"
      },
      "outputs": [
        {
          "data": {
            "text/plain": [
              "tensor([[[7, 2, 4, 5, 4],\n",
              "         [8, 7, 8, 6, 6],\n",
              "         [0, 0, 3, 6, 0]],\n",
              "\n",
              "        [[5, 5, 8, 6, 2],\n",
              "         [8, 2, 0, 5, 0],\n",
              "         [7, 1, 5, 4, 8]]])"
            ]
          },
          "execution_count": 36,
          "metadata": {},
          "output_type": "execute_result"
        }
      ],
      "source": [
        "p = torch.randint(0,9,(2,3,5))\n",
        "p"
      ]
    },
    {
      "cell_type": "code",
      "execution_count": null,
      "metadata": {
        "colab": {
          "base_uri": "https://localhost:8080/"
        },
        "id": "AvQgpqxMT3Xw",
        "outputId": "2110a408-a2a5-40ce-f009-c4b93f4c1320"
      },
      "outputs": [
        {
          "data": {
            "text/plain": [
              "tensor(132)"
            ]
          },
          "execution_count": 37,
          "metadata": {},
          "output_type": "execute_result"
        }
      ],
      "source": [
        "p.sum()"
      ]
    },
    {
      "cell_type": "code",
      "execution_count": null,
      "metadata": {
        "colab": {
          "base_uri": "https://localhost:8080/"
        },
        "id": "YQaqsIROT8RB",
        "outputId": "cd5e4421-b241-46da-ba78-cb7b6fc863b4"
      },
      "outputs": [
        {
          "data": {
            "text/plain": [
              "tensor([[12,  7, 12, 11,  6],\n",
              "        [16,  9,  8, 11,  6],\n",
              "        [ 7,  1,  8, 10,  8]])"
            ]
          },
          "execution_count": 38,
          "metadata": {},
          "output_type": "execute_result"
        }
      ],
      "source": [
        "p.sum(dim = 0)"
      ]
    },
    {
      "cell_type": "code",
      "execution_count": null,
      "metadata": {
        "colab": {
          "base_uri": "https://localhost:8080/"
        },
        "id": "WZtsuKxjYpf7",
        "outputId": "b5e06120-00be-4342-a5f7-13cfe2213b80"
      },
      "outputs": [
        {
          "data": {
            "text/plain": [
              "torch.Size([3, 5])"
            ]
          },
          "execution_count": 39,
          "metadata": {},
          "output_type": "execute_result"
        }
      ],
      "source": [
        "p.sum(dim = 0).shape"
      ]
    },
    {
      "cell_type": "code",
      "execution_count": null,
      "metadata": {
        "colab": {
          "base_uri": "https://localhost:8080/"
        },
        "id": "zlpHyAW0ZpWk",
        "outputId": "29234498-8e1b-4e11-f143-9aea94d577d1"
      },
      "outputs": [
        {
          "data": {
            "text/plain": [
              "tensor([[[7, 2, 4, 5, 4],\n",
              "         [8, 7, 8, 6, 6],\n",
              "         [0, 0, 3, 6, 0]],\n",
              "\n",
              "        [[5, 5, 8, 6, 2],\n",
              "         [8, 2, 0, 5, 0],\n",
              "         [7, 1, 5, 4, 8]]])"
            ]
          },
          "execution_count": 40,
          "metadata": {},
          "output_type": "execute_result"
        }
      ],
      "source": [
        "p"
      ]
    },
    {
      "cell_type": "code",
      "execution_count": null,
      "metadata": {
        "colab": {
          "base_uri": "https://localhost:8080/"
        },
        "id": "-YxFtzCoT_re",
        "outputId": "ddd044c3-5a4d-4673-f27d-5e2f0e6542f6"
      },
      "outputs": [
        {
          "data": {
            "text/plain": [
              "tensor([[15,  9, 15, 17, 10],\n",
              "        [20,  8, 13, 15, 10]])"
            ]
          },
          "execution_count": 41,
          "metadata": {},
          "output_type": "execute_result"
        }
      ],
      "source": [
        "p.sum(dim = 1)"
      ]
    },
    {
      "cell_type": "code",
      "execution_count": null,
      "metadata": {
        "colab": {
          "base_uri": "https://localhost:8080/"
        },
        "id": "QoT36gQQZWN4",
        "outputId": "a140404a-ebe9-44d9-fc1f-4a0f864d4938"
      },
      "outputs": [
        {
          "data": {
            "text/plain": [
              "torch.Size([2, 5])"
            ]
          },
          "execution_count": 42,
          "metadata": {},
          "output_type": "execute_result"
        }
      ],
      "source": [
        "p.sum(dim = 1).shape"
      ]
    },
    {
      "cell_type": "code",
      "execution_count": null,
      "metadata": {
        "colab": {
          "base_uri": "https://localhost:8080/"
        },
        "id": "DPy7kyhxZr0Y",
        "outputId": "1df3acc7-d92b-492a-b609-8ba47fb18754"
      },
      "outputs": [
        {
          "data": {
            "text/plain": [
              "tensor([[[7, 2, 4, 5, 4],\n",
              "         [8, 7, 8, 6, 6],\n",
              "         [0, 0, 3, 6, 0]],\n",
              "\n",
              "        [[5, 5, 8, 6, 2],\n",
              "         [8, 2, 0, 5, 0],\n",
              "         [7, 1, 5, 4, 8]]])"
            ]
          },
          "execution_count": 43,
          "metadata": {},
          "output_type": "execute_result"
        }
      ],
      "source": [
        "p"
      ]
    },
    {
      "cell_type": "code",
      "execution_count": null,
      "metadata": {
        "colab": {
          "base_uri": "https://localhost:8080/"
        },
        "id": "0ttYEkpqZZNN",
        "outputId": "a8b72721-4e8a-4270-98e1-a273c9b48288"
      },
      "outputs": [
        {
          "data": {
            "text/plain": [
              "tensor([[22, 35,  9],\n",
              "        [26, 15, 25]])"
            ]
          },
          "execution_count": 44,
          "metadata": {},
          "output_type": "execute_result"
        }
      ],
      "source": [
        "p.sum(dim = 2)"
      ]
    },
    {
      "cell_type": "code",
      "execution_count": null,
      "metadata": {
        "colab": {
          "base_uri": "https://localhost:8080/"
        },
        "id": "Omf4rZc_ZdJn",
        "outputId": "fe77cdac-9e7a-48ca-e2a9-e5f8fb5143fc"
      },
      "outputs": [
        {
          "data": {
            "text/plain": [
              "torch.Size([2, 3])"
            ]
          },
          "execution_count": 45,
          "metadata": {},
          "output_type": "execute_result"
        }
      ],
      "source": [
        "p.sum(dim = 2).shape"
      ]
    },
    {
      "cell_type": "markdown",
      "metadata": {
        "id": "mnHGIbBnbMCT"
      },
      "source": [
        "## Autograd"
      ]
    },
    {
      "cell_type": "markdown",
      "metadata": {
        "id": "7mRemQG9ceEc"
      },
      "source": [
        "$$y=3\\sigma(x) + 5$$"
      ]
    },
    {
      "cell_type": "markdown",
      "metadata": {
        "id": "tlb518e6dLl7"
      },
      "source": [
        "$$\\frac{\\partial y}{ \\partial x} = 3*\\sigma(x)(1-\\sigma(x))$$"
      ]
    },
    {
      "cell_type": "markdown",
      "metadata": {
        "id": "H8LCmqu2dhkr"
      },
      "source": [
        "$$\\frac{\\partial y}{ \\partial x} = 3*\\sigma(2)(1-\\sigma(2))=3*0.8808*(1-0.8808)=0.3149$$"
      ]
    },
    {
      "cell_type": "code",
      "execution_count": null,
      "metadata": {
        "colab": {
          "base_uri": "https://localhost:8080/"
        },
        "id": "dNDBzDSBmGjL",
        "outputId": "cad7baea-57ef-456a-c3bb-e1453e5852b6"
      },
      "outputs": [
        {
          "data": {
            "text/plain": [
              "(False, True)"
            ]
          },
          "execution_count": 46,
          "metadata": {},
          "output_type": "execute_result"
        }
      ],
      "source": [
        "import torch\n",
        "\n",
        "x = torch.tensor(2.0)\n",
        "x.requires_grad,x.is_leaf"
      ]
    },
    {
      "cell_type": "code",
      "execution_count": null,
      "metadata": {
        "colab": {
          "base_uri": "https://localhost:8080/"
        },
        "id": "aMGUmp1SmW9g",
        "outputId": "8e880dd5-cb04-4a7f-c586-39988567e36d"
      },
      "outputs": [
        {
          "data": {
            "text/plain": [
              "(False, True)"
            ]
          },
          "execution_count": 47,
          "metadata": {},
          "output_type": "execute_result"
        }
      ],
      "source": [
        "y = 3 * torch.sigmoid(x) + 5\n",
        "y.requires_grad,y.is_leaf"
      ]
    },
    {
      "cell_type": "code",
      "execution_count": null,
      "metadata": {
        "colab": {
          "base_uri": "https://localhost:8080/"
        },
        "id": "Sov55chWbZxe",
        "outputId": "e60e42f0-0b55-414e-92ae-6493b3a330c8"
      },
      "outputs": [
        {
          "data": {
            "text/plain": [
              "(True, True)"
            ]
          },
          "execution_count": 48,
          "metadata": {},
          "output_type": "execute_result"
        }
      ],
      "source": [
        "import torch\n",
        "\n",
        "x = torch.tensor(2.0, requires_grad=True)\n",
        "\n",
        "x.requires_grad, x.is_leaf"
      ]
    },
    {
      "cell_type": "code",
      "execution_count": null,
      "metadata": {
        "colab": {
          "base_uri": "https://localhost:8080/"
        },
        "id": "SYmNfN4Um3qX",
        "outputId": "0885c42b-2df6-419a-dacc-7b34d62df30a"
      },
      "outputs": [
        {
          "data": {
            "text/plain": [
              "tensor(7.6424, grad_fn=<AddBackward0>)"
            ]
          },
          "execution_count": 49,
          "metadata": {},
          "output_type": "execute_result"
        }
      ],
      "source": [
        "y = 3 * torch.sigmoid(x) + 5\n",
        "y"
      ]
    },
    {
      "cell_type": "code",
      "execution_count": null,
      "metadata": {
        "colab": {
          "base_uri": "https://localhost:8080/"
        },
        "id": "p23Y9d7OfhGE",
        "outputId": "5d062841-f63b-46cc-8fec-b96a6c126d4e"
      },
      "outputs": [
        {
          "data": {
            "text/plain": [
              "(True, False)"
            ]
          },
          "execution_count": 50,
          "metadata": {},
          "output_type": "execute_result"
        }
      ],
      "source": [
        "y.requires_grad,y.is_leaf"
      ]
    },
    {
      "cell_type": "code",
      "execution_count": null,
      "metadata": {
        "colab": {
          "base_uri": "https://localhost:8080/"
        },
        "id": "zbdesTDDfhwK",
        "outputId": "a0c885f2-e57c-4c30-e16b-d29278184859"
      },
      "outputs": [
        {
          "name": "stdout",
          "output_type": "stream",
          "text": [
            "None\n"
          ]
        }
      ],
      "source": [
        "print(x.grad_fn)"
      ]
    },
    {
      "cell_type": "code",
      "execution_count": null,
      "metadata": {
        "colab": {
          "base_uri": "https://localhost:8080/"
        },
        "id": "Wijukf5qgBMr",
        "outputId": "7c3a2ae4-aca5-466c-cb19-bf8fd1409557"
      },
      "outputs": [
        {
          "name": "stdout",
          "output_type": "stream",
          "text": [
            "<AddBackward0 object at 0x793652a0a5c0>\n"
          ]
        }
      ],
      "source": [
        "print(y.grad_fn)"
      ]
    },
    {
      "cell_type": "code",
      "execution_count": null,
      "metadata": {
        "colab": {
          "base_uri": "https://localhost:8080/"
        },
        "id": "nGYKAyMXfwF1",
        "outputId": "05431790-dffc-425e-cf5c-f2b6dc22652c"
      },
      "outputs": [
        {
          "name": "stdout",
          "output_type": "stream",
          "text": [
            "None\n",
            "tensor(0.3150)\n"
          ]
        }
      ],
      "source": [
        "print(x.grad)\n",
        "y.backward()\n",
        "print(x.grad) # dy/dx"
      ]
    },
    {
      "cell_type": "code",
      "execution_count": null,
      "metadata": {
        "colab": {
          "base_uri": "https://localhost:8080/"
        },
        "id": "OOQzVLT-oebm",
        "outputId": "ac1da93f-faaf-4049-c356-268d46a8e6cc"
      },
      "outputs": [
        {
          "data": {
            "text/plain": [
              "tensor(0.3150)"
            ]
          },
          "execution_count": 54,
          "metadata": {},
          "output_type": "execute_result"
        }
      ],
      "source": [
        "x.grad.zero_()\n",
        "y = 3 * torch.sigmoid(x) + 5\n",
        "y.backward()\n",
        "x.grad"
      ]
    },
    {
      "cell_type": "code",
      "execution_count": null,
      "metadata": {
        "colab": {
          "base_uri": "https://localhost:8080/"
        },
        "id": "LeWIzeG-iora",
        "outputId": "7de2f9a4-e95c-40fb-e52a-aca60fd1e19d"
      },
      "outputs": [
        {
          "data": {
            "text/plain": [
              "tensor([[3.8621e-01, 9.6267e-01, 7.6473e-05, 5.6202e-01, 4.4221e-01],\n",
              "        [9.9990e-01, 3.3484e-01, 2.7076e-01, 3.5957e-01, 6.0859e-01]],\n",
              "       requires_grad=True)"
            ]
          },
          "execution_count": 55,
          "metadata": {},
          "output_type": "execute_result"
        }
      ],
      "source": [
        "a = torch.rand(2, 5, requires_grad=True)\n",
        "a"
      ]
    },
    {
      "cell_type": "code",
      "execution_count": null,
      "metadata": {
        "colab": {
          "base_uri": "https://localhost:8080/"
        },
        "id": "y8gfgbSpG9aT",
        "outputId": "75f4adbb-2cfb-470b-a90e-15ad0fe5f1dc"
      },
      "outputs": [
        {
          "data": {
            "text/plain": [
              "tensor([[5.5354, 6.8894, 5.0001, 5.8779, 5.6378],\n",
              "        [6.9997, 5.4470, 5.3441, 5.4889, 5.9790]], grad_fn=<AddBackward0>)"
            ]
          },
          "execution_count": 56,
          "metadata": {},
          "output_type": "execute_result"
        }
      ],
      "source": [
        "b = a * a + a + 5\n",
        "b"
      ]
    },
    {
      "cell_type": "code",
      "execution_count": null,
      "metadata": {
        "colab": {
          "base_uri": "https://localhost:8080/"
        },
        "id": "NkYnk5Z4H2-Q",
        "outputId": "ef8aa2fe-5e04-4b21-a805-9ecc3645efcc"
      },
      "outputs": [
        {
          "data": {
            "text/plain": [
              "tensor(5.8199, grad_fn=<MeanBackward0>)"
            ]
          },
          "execution_count": 57,
          "metadata": {},
          "output_type": "execute_result"
        }
      ],
      "source": [
        "c = b.mean()\n",
        "c"
      ]
    },
    {
      "cell_type": "code",
      "execution_count": null,
      "metadata": {
        "colab": {
          "base_uri": "https://localhost:8080/"
        },
        "id": "gTlqGFNSgkSe",
        "outputId": "c4328268-26ab-4941-ee6a-7db863206e24"
      },
      "outputs": [
        {
          "data": {
            "text/plain": [
              "(True, False, False)"
            ]
          },
          "execution_count": 58,
          "metadata": {},
          "output_type": "execute_result"
        }
      ],
      "source": [
        "a.is_leaf,b.is_leaf,c.is_leaf"
      ]
    },
    {
      "cell_type": "code",
      "execution_count": null,
      "metadata": {
        "id": "VLeKGNAwgyFn"
      },
      "outputs": [],
      "source": [
        "b.retain_grad()"
      ]
    },
    {
      "cell_type": "code",
      "execution_count": null,
      "metadata": {
        "colab": {
          "base_uri": "https://localhost:8080/"
        },
        "id": "2UnE9EnLIO2W",
        "outputId": "03c612f7-a644-445a-e690-70b8f280f924"
      },
      "outputs": [
        {
          "name": "stdout",
          "output_type": "stream",
          "text": [
            "None\n",
            "tensor([[0.1772, 0.2925, 0.1000, 0.2124, 0.1884],\n",
            "        [0.3000, 0.1670, 0.1542, 0.1719, 0.2217]])\n"
          ]
        }
      ],
      "source": [
        "print(a.grad) # Before gradient computation\n",
        "c.backward()\n",
        "print(a.grad) # After gradient computation #dc/da"
      ]
    },
    {
      "cell_type": "code",
      "execution_count": null,
      "metadata": {
        "colab": {
          "base_uri": "https://localhost:8080/"
        },
        "id": "BOt8Y6uGg_xk",
        "outputId": "c4b6791d-870b-48ed-9541-394e626c42d0"
      },
      "outputs": [
        {
          "data": {
            "text/plain": [
              "tensor([[0.1000, 0.1000, 0.1000, 0.1000, 0.1000],\n",
              "        [0.1000, 0.1000, 0.1000, 0.1000, 0.1000]])"
            ]
          },
          "execution_count": 61,
          "metadata": {},
          "output_type": "execute_result"
        }
      ],
      "source": [
        "b.grad"
      ]
    },
    {
      "cell_type": "markdown",
      "metadata": {
        "id": "MQP_rugHjtcG"
      },
      "source": [
        "### Gradient Descent"
      ]
    },
    {
      "cell_type": "code",
      "execution_count": null,
      "metadata": {
        "colab": {
          "base_uri": "https://localhost:8080/"
        },
        "id": "B1itqZ9ylehv",
        "outputId": "22c204e5-2b5b-4abe-f498-0ac79560a67d"
      },
      "outputs": [
        {
          "data": {
            "text/plain": [
              "(tensor([[-2.0000],\n",
              "         [-1.2857],\n",
              "         [-0.5714],\n",
              "         [ 0.1429],\n",
              "         [ 0.8571],\n",
              "         [ 1.5714],\n",
              "         [ 2.2857],\n",
              "         [ 3.0000],\n",
              "         [ 3.7143],\n",
              "         [ 4.4286],\n",
              "         [ 5.1429],\n",
              "         [ 5.8571],\n",
              "         [ 6.5714],\n",
              "         [ 7.2857],\n",
              "         [ 8.0000]]),\n",
              " tensor([3]),\n",
              " tensor([5]))"
            ]
          },
          "execution_count": 62,
          "metadata": {},
          "output_type": "execute_result"
        }
      ],
      "source": [
        "# Generate train data # y = 5 * x + 3\n",
        "x = torch.linspace(-1.0,1.0,15).reshape(15,1)\n",
        "w = torch.tensor([5])\n",
        "b = torch.tensor([3])\n",
        "y = w * x + b\n",
        "y , b , w"
      ]
    },
    {
      "cell_type": "code",
      "execution_count": null,
      "metadata": {
        "colab": {
          "base_uri": "https://localhost:8080/"
        },
        "id": "XoQ5l1cqjrhb",
        "outputId": "1d062961-bb1d-4fb4-dd9c-761d7dd0cc1f"
      },
      "outputs": [
        {
          "name": "stdout",
          "output_type": "stream",
          "text": [
            "w: tensor([[2.1129]], requires_grad=True)\n",
            "b: tensor([[-0.3575]], requires_grad=True)\n"
          ]
        }
      ],
      "source": [
        "# Parameter initialization\n",
        "w = torch.randn(size=(1,1), requires_grad=True)\n",
        "b = torch.randn(size=(1,1), requires_grad=True)\n",
        "\n",
        "def forward(x):\n",
        "    return w * x + b\n",
        "\n",
        "def loss(y, y_pred):\n",
        "    return ((y_pred - y)**2).mean()\n",
        "\n",
        "print('w:',w)\n",
        "print('b:',b)"
      ]
    },
    {
      "cell_type": "code",
      "execution_count": null,
      "metadata": {
        "colab": {
          "base_uri": "https://localhost:8080/"
        },
        "id": "hdKOO88oj3Ir",
        "outputId": "2ed68ca8-dd59-4144-ae34-7de758740736"
      },
      "outputs": [
        {
          "name": "stdout",
          "output_type": "stream",
          "text": [
            "epoch 10: w = 2.709, b = 1.192,loss = 5.795\n",
            "epoch 20: w = 3.182, b = 2.026,loss = 2.393\n",
            "epoch 30: w = 3.557, b = 2.475,loss = 1.142\n",
            "epoch 40: w = 3.855, b = 2.717,loss = 0.613\n",
            "epoch 50: w = 4.091, b = 2.848,loss = 0.356\n",
            "epoch 60: w = 4.279, b = 2.918,loss = 0.215\n",
            "epoch 70: w = 4.428, b = 2.956,loss = 0.133\n",
            "epoch 80: w = 4.546, b = 2.976,loss = 0.083\n",
            "epoch 90: w = 4.640, b = 2.987,loss = 0.052\n",
            "epoch 100: w = 4.714, b = 2.993,loss = 0.033\n",
            "epoch 110: w = 4.773, b = 2.996,loss = 0.021\n",
            "epoch 120: w = 4.820, b = 2.998,loss = 0.013\n",
            "epoch 130: w = 4.857, b = 2.999,loss = 0.008\n",
            "epoch 140: w = 4.887, b = 2.999,loss = 0.005\n",
            "epoch 150: w = 4.910, b = 3.000,loss = 0.003\n",
            "epoch 160: w = 4.929, b = 3.000,loss = 0.002\n",
            "epoch 170: w = 4.943, b = 3.000,loss = 0.001\n",
            "epoch 180: w = 4.955, b = 3.000,loss = 0.001\n"
          ]
        }
      ],
      "source": [
        "# Define hyperparameters\n",
        "learning_rate = 0.03\n",
        "num_epochs = 180\n",
        "\n",
        "# Train the model\n",
        "for epoch in range(num_epochs):\n",
        "    y_pred = forward(x)\n",
        "\n",
        "    l = loss(y, y_pred)\n",
        "\n",
        "    l.backward()\n",
        "\n",
        "    with torch.no_grad():\n",
        "      w -= learning_rate * w.grad\n",
        "      b -= learning_rate * b.grad\n",
        "\n",
        "    w.grad.zero_()\n",
        "    b.grad.zero_()\n",
        "\n",
        "    if (epoch+1) % 10 == 0:\n",
        "        print(f'epoch {epoch+1}: w = {w.item():.3f}, b = {b.item():.3f},loss = {l.item():.3f}')"
      ]
    },
    {
      "cell_type": "markdown",
      "metadata": {
        "id": "xUn8YynVydjP"
      },
      "source": [
        "## Neural Networks"
      ]
    },
    {
      "cell_type": "code",
      "execution_count": 18,
      "metadata": {
        "id": "mgCSzNOHydJy"
      },
      "outputs": [],
      "source": [
        "import torch\n",
        "import torch.nn as nn\n",
        "#import torch.nn.functional as F\n",
        "import torch.optim as optim\n",
        "\n",
        "from torchvision import datasets,transforms"
      ]
    },
    {
      "cell_type": "code",
      "execution_count": 19,
      "metadata": {
        "id": "ik2W138nEb9X"
      },
      "outputs": [],
      "source": [
        "device = torch.device('cuda' if torch.cuda.is_available() else 'cpu')"
      ]
    },
    {
      "cell_type": "code",
      "execution_count": 20,
      "metadata": {
        "colab": {
          "base_uri": "https://localhost:8080/"
        },
        "id": "Gg4ZLyenHkGz",
        "outputId": "d18b84a2-641e-4233-88f3-76b7b0288384"
      },
      "outputs": [
        {
          "output_type": "stream",
          "name": "stdout",
          "text": [
            "['CIFAR10', 'CIFAR100', 'CLEVRClassification', 'CREStereo', 'Caltech101', 'Caltech256', 'CarlaStereo', 'CelebA', 'Cityscapes', 'CocoCaptions', 'CocoDetection', 'Country211', 'DTD', 'DatasetFolder', 'EMNIST', 'ETH3DStereo', 'EuroSAT', 'FER2013', 'FGVCAircraft', 'FakeData', 'FallingThingsStereo', 'FashionMNIST', 'Flickr30k', 'Flickr8k', 'Flowers102', 'FlyingChairs', 'FlyingThings3D', 'Food101', 'GTSRB', 'HD1K', 'HMDB51', 'INaturalist', 'ImageFolder', 'ImageNet', 'Imagenette', 'InStereo2k', 'KMNIST', 'Kinetics', 'Kitti', 'Kitti2012Stereo', 'Kitti2015Stereo', 'KittiFlow', 'LFWPairs', 'LFWPeople', 'LSUN', 'LSUNClass', 'MNIST', 'Middlebury2014Stereo', 'MovingMNIST', 'Omniglot', 'OxfordIIITPet', 'PCAM', 'PhotoTour', 'Places365', 'QMNIST', 'RenderedSST2', 'SBDataset', 'SBU', 'SEMEION', 'STL10', 'SUN397', 'SVHN', 'SceneFlowStereo', 'Sintel', 'SintelStereo', 'StanfordCars', 'UCF101', 'USPS', 'VOCDetection', 'VOCSegmentation', 'VisionDataset', 'WIDERFace', '__all__', '__builtins__', '__cached__', '__doc__', '__file__', '__getattr__', '__loader__', '__name__', '__package__', '__path__', '__spec__', '_optical_flow', '_stereo_matching', 'caltech', 'celeba', 'cifar', 'cityscapes', 'clevr', 'coco', 'country211', 'dtd', 'eurosat', 'fakedata', 'fer2013', 'fgvc_aircraft', 'flickr', 'flowers102', 'folder', 'food101', 'gtsrb', 'hmdb51', 'imagenet', 'imagenette', 'inaturalist', 'kinetics', 'kitti', 'lfw', 'lsun', 'mnist', 'moving_mnist', 'omniglot', 'oxford_iiit_pet', 'pcam', 'phototour', 'places365', 'rendered_sst2', 'sbd', 'sbu', 'semeion', 'stanford_cars', 'stl10', 'sun397', 'svhn', 'ucf101', 'usps', 'utils', 'video_utils', 'vision', 'voc', 'widerface']\n"
          ]
        }
      ],
      "source": [
        "print(dir(datasets))"
      ]
    },
    {
      "cell_type": "code",
      "execution_count": 21,
      "metadata": {
        "id": "0MmpY18FxIqm"
      },
      "outputs": [],
      "source": [
        "## Hyper-parameters\n",
        "hidden_size = 400\n",
        "num_epochs = 8\n",
        "batch_size = 32\n",
        "learning_rate = 0.0001"
      ]
    },
    {
      "cell_type": "code",
      "execution_count": 22,
      "metadata": {
        "colab": {
          "base_uri": "https://localhost:8080/"
        },
        "id": "VetrSviG0V4H",
        "outputId": "32d107ca-b7fc-437c-aebe-56f4f6c36445"
      },
      "outputs": [
        {
          "output_type": "stream",
          "name": "stdout",
          "text": [
            "Downloading http://yann.lecun.com/exdb/mnist/train-images-idx3-ubyte.gz\n",
            "Failed to download (trying next):\n",
            "HTTP Error 404: Not Found\n",
            "\n",
            "Downloading https://ossci-datasets.s3.amazonaws.com/mnist/train-images-idx3-ubyte.gz\n",
            "Downloading https://ossci-datasets.s3.amazonaws.com/mnist/train-images-idx3-ubyte.gz to ./data/MNIST/raw/train-images-idx3-ubyte.gz\n"
          ]
        },
        {
          "output_type": "stream",
          "name": "stderr",
          "text": [
            "100%|██████████| 9.91M/9.91M [00:00<00:00, 16.2MB/s]\n"
          ]
        },
        {
          "output_type": "stream",
          "name": "stdout",
          "text": [
            "Extracting ./data/MNIST/raw/train-images-idx3-ubyte.gz to ./data/MNIST/raw\n",
            "\n",
            "Downloading http://yann.lecun.com/exdb/mnist/train-labels-idx1-ubyte.gz\n",
            "Failed to download (trying next):\n",
            "HTTP Error 404: Not Found\n",
            "\n",
            "Downloading https://ossci-datasets.s3.amazonaws.com/mnist/train-labels-idx1-ubyte.gz\n",
            "Downloading https://ossci-datasets.s3.amazonaws.com/mnist/train-labels-idx1-ubyte.gz to ./data/MNIST/raw/train-labels-idx1-ubyte.gz\n"
          ]
        },
        {
          "output_type": "stream",
          "name": "stderr",
          "text": [
            "100%|██████████| 28.9k/28.9k [00:00<00:00, 496kB/s]\n"
          ]
        },
        {
          "output_type": "stream",
          "name": "stdout",
          "text": [
            "Extracting ./data/MNIST/raw/train-labels-idx1-ubyte.gz to ./data/MNIST/raw\n",
            "\n",
            "Downloading http://yann.lecun.com/exdb/mnist/t10k-images-idx3-ubyte.gz\n",
            "Failed to download (trying next):\n",
            "HTTP Error 404: Not Found\n",
            "\n",
            "Downloading https://ossci-datasets.s3.amazonaws.com/mnist/t10k-images-idx3-ubyte.gz\n",
            "Downloading https://ossci-datasets.s3.amazonaws.com/mnist/t10k-images-idx3-ubyte.gz to ./data/MNIST/raw/t10k-images-idx3-ubyte.gz\n"
          ]
        },
        {
          "output_type": "stream",
          "name": "stderr",
          "text": [
            "100%|██████████| 1.65M/1.65M [00:00<00:00, 4.42MB/s]\n"
          ]
        },
        {
          "output_type": "stream",
          "name": "stdout",
          "text": [
            "Extracting ./data/MNIST/raw/t10k-images-idx3-ubyte.gz to ./data/MNIST/raw\n",
            "\n",
            "Downloading http://yann.lecun.com/exdb/mnist/t10k-labels-idx1-ubyte.gz\n",
            "Failed to download (trying next):\n",
            "HTTP Error 404: Not Found\n",
            "\n",
            "Downloading https://ossci-datasets.s3.amazonaws.com/mnist/t10k-labels-idx1-ubyte.gz\n",
            "Downloading https://ossci-datasets.s3.amazonaws.com/mnist/t10k-labels-idx1-ubyte.gz to ./data/MNIST/raw/t10k-labels-idx1-ubyte.gz\n"
          ]
        },
        {
          "output_type": "stream",
          "name": "stderr",
          "text": [
            "100%|██████████| 4.54k/4.54k [00:00<00:00, 5.35MB/s]"
          ]
        },
        {
          "output_type": "stream",
          "name": "stdout",
          "text": [
            "Extracting ./data/MNIST/raw/t10k-labels-idx1-ubyte.gz to ./data/MNIST/raw\n",
            "\n"
          ]
        },
        {
          "output_type": "stream",
          "name": "stderr",
          "text": [
            "\n"
          ]
        }
      ],
      "source": [
        "## Load the MNIST dataset\n",
        "train_dataset = datasets.MNIST(root='./data', train=True, download=True, transform=transforms.ToTensor())\n",
        "test_dataset = datasets.MNIST(root='./data', train=False, download=True, transform=transforms.ToTensor())"
      ]
    },
    {
      "cell_type": "code",
      "execution_count": null,
      "metadata": {
        "colab": {
          "base_uri": "https://localhost:8080/"
        },
        "id": "c0h-djeY1To4",
        "outputId": "e41954e0-f330-48fa-fb5a-5cf9c5c87a5b"
      },
      "outputs": [
        {
          "name": "stdout",
          "output_type": "stream",
          "text": [
            "['0 - zero', '1 - one', '2 - two', '3 - three', '4 - four', '5 - five', '6 - six', '7 - seven', '8 - eight', '9 - nine']\n",
            "torch.Size([60000, 28, 28])\n",
            "torch.Size([60000])\n"
          ]
        }
      ],
      "source": [
        "## Training Data\n",
        "print(train_dataset.classes)\n",
        "print(train_dataset.data.shape)\n",
        "print(train_dataset.targets.shape)"
      ]
    },
    {
      "cell_type": "code",
      "execution_count": null,
      "metadata": {
        "colab": {
          "base_uri": "https://localhost:8080/"
        },
        "id": "tjDag3Hp2jB7",
        "outputId": "0e338702-848f-4d3b-862a-96b82415878e"
      },
      "outputs": [
        {
          "name": "stdout",
          "output_type": "stream",
          "text": [
            "['0 - zero', '1 - one', '2 - two', '3 - three', '4 - four', '5 - five', '6 - six', '7 - seven', '8 - eight', '9 - nine']\n",
            "torch.Size([10000, 28, 28])\n",
            "torch.Size([10000])\n"
          ]
        }
      ],
      "source": [
        "## Test Data\n",
        "print(test_dataset.classes)\n",
        "print(test_dataset.data.shape)\n",
        "print(test_dataset.targets.shape)"
      ]
    },
    {
      "cell_type": "code",
      "execution_count": null,
      "metadata": {
        "id": "taemlQ95FeR2"
      },
      "outputs": [],
      "source": [
        "in_features = 784 # Input size - 28 x 28\n",
        "out_features = 10 # no. of classes"
      ]
    },
    {
      "cell_type": "code",
      "execution_count": null,
      "metadata": {
        "id": "PjwnlYS3x9mf"
      },
      "outputs": [],
      "source": [
        "train_dataloader = torch.utils.data.DataLoader(dataset=train_dataset, batch_size = batch_size, shuffle=True)\n",
        "\n",
        "test_dataloader = torch.utils.data.DataLoader(dataset=test_dataset, batch_size = batch_size, shuffle=False)"
      ]
    },
    {
      "cell_type": "code",
      "execution_count": null,
      "metadata": {
        "colab": {
          "base_uri": "https://localhost:8080/",
          "height": 204
        },
        "id": "jk5wE3gB28yO",
        "outputId": "9588687a-ea96-464e-9b24-c88cf92989c2"
      },
      "outputs": [
        {
          "name": "stdout",
          "output_type": "stream",
          "text": [
            "torch.Size([32, 1, 28, 28])\n",
            "torch.Size([32])\n"
          ]
        },
        {
          "data": {
            "image/png": "[encoded data removed]",
            "text/plain": [
              "<Figure size 640x480 with 5 Axes>"
            ]
          },
          "metadata": {},
          "output_type": "display_data"
        }
      ],
      "source": [
        "import matplotlib.pyplot as plt\n",
        "\n",
        "data = iter(train_dataloader)\n",
        "imgs,labels = next(data)\n",
        "print(imgs.shape)\n",
        "print(labels.shape)\n",
        "\n",
        "for i in range(5):\n",
        "    plt.subplot(1,5,i+1)\n",
        "    plt.imshow(imgs[i][0], cmap='gray')\n",
        "    plt.xlabel(f'Label = {labels[i].item()}')\n",
        "plt.show()"
      ]
    },
    {
      "cell_type": "code",
      "execution_count": null,
      "metadata": {
        "id": "qw7zfOSI877B"
      },
      "outputs": [],
      "source": [
        "class BasicNeuralNet(nn.Module):\n",
        "    def __init__(self,hidden_size):\n",
        "        super(BasicNeuralNet, self).__init__()\n",
        "        self.hidden_size = hidden_size\n",
        "        self.layer1 = nn.Linear(in_features, self.hidden_size)\n",
        "        self.layer2 = nn.Linear(self.hidden_size, out_features)\n",
        "\n",
        "    def forward(self, x):\n",
        "        out = self.layer1(x)\n",
        "        out = torch.relu(out)\n",
        "        out = self.layer2(out)\n",
        "        return out\n",
        "\n",
        "model = BasicNeuralNet(hidden_size).to(device)"
      ]
    },
    {
      "cell_type": "code",
      "execution_count": null,
      "metadata": {
        "id": "ysdP1TaHGZgW"
      },
      "outputs": [],
      "source": [
        "w1,b1,w2,b2 = list(model.parameters())"
      ]
    },
    {
      "cell_type": "code",
      "execution_count": null,
      "metadata": {
        "colab": {
          "base_uri": "https://localhost:8080/"
        },
        "id": "Wg0j1WgdSHTz",
        "outputId": "8f1e51d4-ba21-44e0-e71d-4db5fe54bec7"
      },
      "outputs": [
        {
          "name": "stdout",
          "output_type": "stream",
          "text": [
            "Parameter containing:\n",
            "tensor([[-0.0149,  0.0309, -0.0292,  ..., -0.0183, -0.0227,  0.0004],\n",
            "        [ 0.0288, -0.0133, -0.0052,  ...,  0.0037,  0.0228, -0.0346],\n",
            "        [-0.0300, -0.0050,  0.0232,  ..., -0.0327,  0.0077, -0.0070],\n",
            "        ...,\n",
            "        [-0.0039,  0.0340, -0.0078,  ..., -0.0222, -0.0040,  0.0310],\n",
            "        [ 0.0261, -0.0141,  0.0255,  ...,  0.0023,  0.0345, -0.0172],\n",
            "        [ 0.0231,  0.0135, -0.0205,  ..., -0.0059, -0.0295, -0.0308]],\n",
            "       requires_grad=True) Parameter containing:\n",
            "tensor([ 0.0014, -0.0281,  0.0178, -0.0060, -0.0312, -0.0157,  0.0093,  0.0309,\n",
            "         0.0142,  0.0113,  0.0137,  0.0348, -0.0177, -0.0015, -0.0165, -0.0169,\n",
            "        -0.0052,  0.0037,  0.0106,  0.0098, -0.0274, -0.0263, -0.0102, -0.0143,\n",
            "         0.0005,  0.0221, -0.0112,  0.0191,  0.0250,  0.0203,  0.0063,  0.0110,\n",
            "         0.0196,  0.0193, -0.0137, -0.0220,  0.0041,  0.0196,  0.0135,  0.0002,\n",
            "        -0.0141,  0.0033,  0.0065, -0.0315,  0.0248,  0.0166, -0.0118,  0.0172,\n",
            "         0.0237, -0.0083,  0.0145, -0.0107, -0.0207, -0.0133,  0.0344,  0.0054,\n",
            "         0.0181,  0.0001, -0.0155,  0.0075,  0.0156,  0.0335,  0.0215, -0.0158,\n",
            "         0.0127,  0.0126, -0.0230,  0.0053, -0.0263, -0.0165, -0.0021,  0.0303,\n",
            "        -0.0271, -0.0175, -0.0335,  0.0305,  0.0245,  0.0272,  0.0062,  0.0120,\n",
            "         0.0283, -0.0129, -0.0140, -0.0190, -0.0164, -0.0016,  0.0290, -0.0292,\n",
            "        -0.0057, -0.0247,  0.0025,  0.0067,  0.0245,  0.0318,  0.0326,  0.0279,\n",
            "         0.0129,  0.0129,  0.0176, -0.0235, -0.0294,  0.0208,  0.0196, -0.0158,\n",
            "        -0.0064,  0.0124,  0.0259, -0.0258, -0.0042, -0.0022, -0.0197,  0.0240,\n",
            "         0.0234, -0.0072,  0.0307, -0.0047, -0.0057,  0.0028, -0.0050, -0.0211,\n",
            "        -0.0288, -0.0216, -0.0168,  0.0209,  0.0074,  0.0241, -0.0298,  0.0071,\n",
            "        -0.0040,  0.0314, -0.0277, -0.0244, -0.0156,  0.0261, -0.0185,  0.0089,\n",
            "        -0.0208, -0.0333,  0.0331,  0.0137, -0.0067,  0.0140, -0.0044, -0.0090,\n",
            "        -0.0066,  0.0013,  0.0029,  0.0032,  0.0161, -0.0202, -0.0013,  0.0011,\n",
            "        -0.0230,  0.0339,  0.0293, -0.0284,  0.0205,  0.0165, -0.0064, -0.0335,\n",
            "         0.0263,  0.0168,  0.0135,  0.0011,  0.0249,  0.0097,  0.0298, -0.0189,\n",
            "         0.0110, -0.0094, -0.0071,  0.0109, -0.0033, -0.0045, -0.0196,  0.0079,\n",
            "         0.0007,  0.0283,  0.0148, -0.0168,  0.0222, -0.0299, -0.0186,  0.0126,\n",
            "         0.0116, -0.0251,  0.0025,  0.0037, -0.0316, -0.0093, -0.0242,  0.0185,\n",
            "         0.0357,  0.0113,  0.0196, -0.0288,  0.0230,  0.0071,  0.0187,  0.0141,\n",
            "        -0.0195, -0.0222,  0.0266,  0.0088, -0.0028, -0.0344, -0.0116, -0.0002,\n",
            "         0.0182, -0.0176,  0.0213, -0.0234,  0.0271, -0.0268, -0.0078, -0.0137,\n",
            "         0.0219,  0.0230,  0.0107, -0.0225, -0.0324, -0.0008,  0.0096, -0.0285,\n",
            "         0.0192, -0.0124, -0.0004, -0.0253,  0.0158, -0.0106, -0.0020,  0.0062,\n",
            "        -0.0212,  0.0261,  0.0082, -0.0126,  0.0200, -0.0085,  0.0286, -0.0046,\n",
            "         0.0122,  0.0017, -0.0158,  0.0131,  0.0258,  0.0020,  0.0068,  0.0106,\n",
            "         0.0208, -0.0144,  0.0043,  0.0261, -0.0100, -0.0056,  0.0303, -0.0130,\n",
            "         0.0170, -0.0055, -0.0323,  0.0219, -0.0018,  0.0273, -0.0281, -0.0133,\n",
            "         0.0233, -0.0223,  0.0051, -0.0340,  0.0099, -0.0002,  0.0131, -0.0058,\n",
            "         0.0301, -0.0111,  0.0247,  0.0156,  0.0129,  0.0019,  0.0178,  0.0285,\n",
            "        -0.0355,  0.0004, -0.0248, -0.0283,  0.0308,  0.0222, -0.0100,  0.0242,\n",
            "        -0.0178,  0.0129, -0.0145,  0.0335, -0.0118, -0.0347, -0.0196,  0.0005,\n",
            "        -0.0250, -0.0129, -0.0261, -0.0317, -0.0250, -0.0300, -0.0252, -0.0111,\n",
            "         0.0102,  0.0088,  0.0017, -0.0335, -0.0131, -0.0214,  0.0043, -0.0183,\n",
            "         0.0229, -0.0320, -0.0327,  0.0249,  0.0228,  0.0007,  0.0315,  0.0183,\n",
            "         0.0357, -0.0062, -0.0283,  0.0138, -0.0028, -0.0083, -0.0319, -0.0021,\n",
            "        -0.0300,  0.0137, -0.0083, -0.0269,  0.0210, -0.0185, -0.0056, -0.0139,\n",
            "        -0.0192, -0.0293, -0.0180, -0.0163, -0.0031,  0.0241, -0.0206, -0.0270,\n",
            "         0.0029, -0.0266,  0.0078, -0.0143, -0.0344, -0.0121, -0.0266,  0.0348,\n",
            "         0.0103, -0.0205, -0.0076, -0.0104, -0.0261,  0.0085,  0.0228, -0.0065,\n",
            "         0.0164,  0.0227,  0.0147,  0.0232,  0.0216,  0.0061, -0.0340, -0.0102,\n",
            "         0.0090, -0.0151, -0.0161,  0.0132,  0.0082,  0.0213,  0.0025, -0.0212,\n",
            "         0.0266,  0.0060, -0.0051,  0.0211, -0.0166,  0.0057,  0.0122,  0.0227,\n",
            "        -0.0309,  0.0292, -0.0091, -0.0209,  0.0313, -0.0180,  0.0061,  0.0119,\n",
            "         0.0348, -0.0073,  0.0042,  0.0211, -0.0189,  0.0281, -0.0316, -0.0116],\n",
            "       requires_grad=True)\n",
            "torch.Size([400, 784])\n",
            "torch.Size([400])\n"
          ]
        }
      ],
      "source": [
        "# First linear layer\n",
        "print(w1,b1)\n",
        "print(w1.shape)\n",
        "print(b1.shape)"
      ]
    },
    {
      "cell_type": "code",
      "execution_count": null,
      "metadata": {
        "colab": {
          "base_uri": "https://localhost:8080/"
        },
        "id": "TKgt0AodSVDO",
        "outputId": "60872bc9-1858-42ec-b94a-81c0cb4b3fb5"
      },
      "outputs": [
        {
          "name": "stdout",
          "output_type": "stream",
          "text": [
            "Parameter containing:\n",
            "tensor([[ 0.0499, -0.0493, -0.0153,  ...,  0.0424,  0.0118, -0.0133],\n",
            "        [-0.0251,  0.0458, -0.0378,  ...,  0.0109,  0.0231, -0.0324],\n",
            "        [-0.0330,  0.0074, -0.0038,  ..., -0.0453, -0.0404, -0.0302],\n",
            "        ...,\n",
            "        [ 0.0342, -0.0303, -0.0418,  ..., -0.0346, -0.0105, -0.0178],\n",
            "        [ 0.0093, -0.0380, -0.0277,  ..., -0.0065,  0.0309,  0.0269],\n",
            "        [-0.0495, -0.0412,  0.0029,  ..., -0.0313, -0.0342, -0.0428]],\n",
            "       requires_grad=True) Parameter containing:\n",
            "tensor([-0.0305,  0.0302, -0.0395,  0.0001, -0.0132,  0.0306, -0.0296,  0.0242,\n",
            "        -0.0136,  0.0487], requires_grad=True)\n",
            "torch.Size([10, 400])\n",
            "torch.Size([10])\n"
          ]
        }
      ],
      "source": [
        "# Second linear layer\n",
        "print(w2,b2)\n",
        "print(w2.shape)\n",
        "print(b2.shape)"
      ]
    },
    {
      "cell_type": "code",
      "execution_count": null,
      "metadata": {
        "id": "_0kc0IAEEo31"
      },
      "outputs": [],
      "source": [
        "criterion = nn.CrossEntropyLoss() # Loss\n",
        "optimizer = optim.Adam(model.parameters(), lr=learning_rate)"
      ]
    },
    {
      "cell_type": "code",
      "execution_count": null,
      "metadata": {
        "colab": {
          "background_save": true,
          "base_uri": "https://localhost:8080/"
        },
        "id": "Cs7gzjxVEs8x",
        "outputId": "1dffe079-3f5b-4cb5-b3c3-baab7b9f9544"
      },
      "outputs": [
        {
          "name": "stdout",
          "output_type": "stream",
          "text": [
            "Epoch 0, Step 0/1875, Loss: 2.287\n",
            "Epoch 0, Step 300/1875, Loss: 0.604\n",
            "Epoch 0, Step 600/1875, Loss: 0.385\n",
            "Epoch 0, Step 900/1875, Loss: 0.317\n",
            "Epoch 0, Step 1200/1875, Loss: 0.311\n",
            "Epoch 0, Step 1500/1875, Loss: 0.637\n",
            "Epoch 0, Step 1800/1875, Loss: 0.453\n",
            "Epoch 1, Step 0/1875, Loss: 0.276\n",
            "Epoch 1, Step 300/1875, Loss: 0.190\n",
            "Epoch 1, Step 600/1875, Loss: 0.169\n",
            "Epoch 1, Step 900/1875, Loss: 0.251\n",
            "Epoch 1, Step 1200/1875, Loss: 0.198\n",
            "Epoch 1, Step 1500/1875, Loss: 0.168\n",
            "Epoch 1, Step 1800/1875, Loss: 0.214\n",
            "Epoch 2, Step 0/1875, Loss: 0.245\n",
            "Epoch 2, Step 300/1875, Loss: 0.291\n",
            "Epoch 2, Step 600/1875, Loss: 0.635\n",
            "Epoch 2, Step 900/1875, Loss: 0.285\n",
            "Epoch 2, Step 1200/1875, Loss: 0.215\n",
            "Epoch 2, Step 1500/1875, Loss: 0.437\n",
            "Epoch 2, Step 1800/1875, Loss: 0.243\n",
            "Epoch 3, Step 0/1875, Loss: 0.128\n",
            "Epoch 3, Step 300/1875, Loss: 0.155\n",
            "Epoch 3, Step 600/1875, Loss: 0.166\n",
            "Epoch 3, Step 900/1875, Loss: 0.185\n",
            "Epoch 3, Step 1200/1875, Loss: 0.208\n",
            "Epoch 3, Step 1500/1875, Loss: 0.252\n",
            "Epoch 3, Step 1800/1875, Loss: 0.058\n",
            "Epoch 4, Step 0/1875, Loss: 0.043\n",
            "Epoch 4, Step 300/1875, Loss: 0.103\n",
            "Epoch 4, Step 600/1875, Loss: 0.215\n",
            "Epoch 4, Step 900/1875, Loss: 0.237\n",
            "Epoch 4, Step 1200/1875, Loss: 0.067\n",
            "Epoch 4, Step 1500/1875, Loss: 0.321\n",
            "Epoch 4, Step 1800/1875, Loss: 0.127\n",
            "Epoch 5, Step 0/1875, Loss: 0.058\n",
            "Epoch 5, Step 300/1875, Loss: 0.026\n",
            "Epoch 5, Step 600/1875, Loss: 0.328\n",
            "Epoch 5, Step 900/1875, Loss: 0.061\n",
            "Epoch 5, Step 1200/1875, Loss: 0.135\n",
            "Epoch 5, Step 1500/1875, Loss: 0.024\n",
            "Epoch 5, Step 1800/1875, Loss: 0.039\n",
            "Epoch 6, Step 0/1875, Loss: 0.152\n",
            "Epoch 6, Step 300/1875, Loss: 0.070\n",
            "Epoch 6, Step 600/1875, Loss: 0.142\n",
            "Epoch 6, Step 900/1875, Loss: 0.041\n",
            "Epoch 6, Step 1200/1875, Loss: 0.050\n",
            "Epoch 6, Step 1500/1875, Loss: 0.133\n",
            "Epoch 6, Step 1800/1875, Loss: 0.058\n",
            "Epoch 7, Step 0/1875, Loss: 0.200\n",
            "Epoch 7, Step 300/1875, Loss: 0.056\n",
            "Epoch 7, Step 600/1875, Loss: 0.080\n",
            "Epoch 7, Step 900/1875, Loss: 0.138\n",
            "Epoch 7, Step 1200/1875, Loss: 0.233\n",
            "Epoch 7, Step 1500/1875, Loss: 0.181\n",
            "Epoch 7, Step 1800/1875, Loss: 0.057\n"
          ]
        }
      ],
      "source": [
        "# Training\n",
        "total_steps = len(train_dataloader)\n",
        "for epoch in range(num_epochs):\n",
        "    for i, (images, labels) in enumerate(train_dataloader):\n",
        "        images = images.reshape(-1, 28*28).to(device)\n",
        "        labels = labels.to(device)\n",
        "\n",
        "        # Forward pass\n",
        "        outputs = model(images)\n",
        "\n",
        "        loss = criterion(outputs, labels)\n",
        "\n",
        "        # Backpropagation\n",
        "        loss.backward()\n",
        "\n",
        "        optimizer.step() # Parameter update\n",
        "        optimizer.zero_grad()\n",
        "\n",
        "        if i % 300 == 0:\n",
        "            print (f'Epoch {epoch}, Step {i}/{total_steps}, Loss: {loss.item():.3f}')"
      ]
    },
    {
      "cell_type": "code",
      "execution_count": null,
      "metadata": {
        "colab": {
          "background_save": true
        },
        "id": "Hek2mZrxE8eo",
        "outputId": "83f44a34-7b53-41ba-dcc6-59c25f48f0f4"
      },
      "outputs": [
        {
          "name": "stdout",
          "output_type": "stream",
          "text": [
            "Accuracy: 96.97 %\n"
          ]
        }
      ],
      "source": [
        "# Test the model\n",
        "with torch.no_grad():\n",
        "    correct = 0\n",
        "    num_samples = len(test_dataloader.dataset)\n",
        "\n",
        "    for imgs, labels in test_dataloader:\n",
        "        imgs = imgs.reshape(-1, 28*28).to(device)\n",
        "        labels = labels.to(device)\n",
        "\n",
        "        outputs = model(imgs)\n",
        "\n",
        "        _, predicted = torch.max(outputs, 1)\n",
        "        correct += (predicted == labels).sum().item()\n",
        "\n",
        "    acc = correct / num_samples\n",
        "    print(f'Accuracy: {100*acc} %')"
      ]
    },
    {
      "cell_type": "code",
      "execution_count": null,
      "metadata": {
        "colab": {
          "background_save": true
        },
        "id": "Q5HNduv1Z130"
      },
      "outputs": [],
      "source": []
    }
  ],
  "metadata": {
    "colab": {
      "provenance": [],
      "include_colab_link": true
    },
    "kernelspec": {
      "display_name": "Python 3",
      "name": "python3"
    },
    "language_info": {
      "name": "python"
    }
  },
  "nbformat": 4,
  "nbformat_minor": 0
}